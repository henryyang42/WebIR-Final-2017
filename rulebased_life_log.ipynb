{
 "cells": [
  {
   "cell_type": "code",
   "execution_count": 1,
   "metadata": {},
   "outputs": [
    {
     "name": "stderr",
     "output_type": "stream",
     "text": [
      "DEBUG:jseg.jieba:loading default dictionary\n"
     ]
    }
   ],
   "source": [
    "import pandas as pd\n",
    "from jseg.jieba import Jieba\n",
    "j = Jieba()\n",
    "\n",
    "diaries = pd.read_csv('data/diary_corpus.csv').fillna('')\n",
    "diaries = diaries[diaries.author=='楊基振日記']"
   ]
  },
  {
   "cell_type": "markdown",
   "metadata": {},
   "source": [
    "# Remove Japanese"
   ]
  },
  {
   "cell_type": "code",
   "execution_count": 2,
   "metadata": {
    "collapsed": true
   },
   "outputs": [],
   "source": [
    "diaries = pd.read_csv('data/diary_corpus.csv').fillna('')\n",
    "diaries = diaries[diaries.author =='楊基振日記']\n",
    "days = ['星期一', '星期二', '星期三', '星期四', '星期五', '星期六', '星期日', '星期天']\n",
    "ls = []\n",
    "out  = []\n",
    "for i in diaries.index:\n",
    "    content = diaries.content[i]\n",
    "    title = diaries.title[i]\n",
    "    for day in days:\n",
    "        ind = content.find(day+'\\n')\n",
    "        if ind > 0:\n",
    "            content = content[ind+3:]\n",
    "            break\n",
    "    ls.append(len(content + title))\n",
    "    out.append({'title': title, 'content': content.split('。')})"
   ]
  },
  {
   "cell_type": "markdown",
   "metadata": {},
   "source": [
    "# Named Entities by CJ"
   ]
  },
  {
   "cell_type": "code",
   "execution_count": 3,
   "metadata": {},
   "outputs": [],
   "source": [
    "with open('data/names.csv') as f:\n",
    "    names = set(name.strip() for name in f)\n",
    "with open('data/place.csv') as f:\n",
    "    places = set(place.strip() for place in f)\n",
    "\n",
    "with open('data/names.txt') as f:\n",
    "    names.update(name.strip() for name in f)\n",
    "with open('data/first.txt') as f:\n",
    "    names.update(name.strip() for name in f)\n",
    "with open('data/last.txt') as f:\n",
    "    names.update(name.strip() for name in f)\n",
    "with open('data/relatives.txt') as f:\n",
    "    names.update(name.strip() for name in f)"
   ]
  },
  {
   "cell_type": "markdown",
   "metadata": {},
   "source": [
    "# Extract Time Frames"
   ]
  },
  {
   "cell_type": "code",
   "execution_count": 4,
   "metadata": {
    "collapsed": true
   },
   "outputs": [],
   "source": [
    "time_trigger = ['下午', '早晨', '晚上', '早上', '午夜', '今天', '明天'] + [num + '點' for num in ['一', '二', '三', '四', '五', '六', '七', '八', '九', '十', '十一', '十二']]\n",
    "frames = []\n",
    "for o in out:\n",
    "    for content in o['content']:\n",
    "        for trigger in time_trigger:\n",
    "            if trigger in content:\n",
    "                frames.append({'time': o['title'], 'content': content})\n",
    "                break"
   ]
  },
  {
   "cell_type": "markdown",
   "metadata": {},
   "source": [
    "# Raw Format"
   ]
  },
  {
   "cell_type": "code",
   "execution_count": 5,
   "metadata": {
    "collapsed": true
   },
   "outputs": [],
   "source": [
    "for frame in frames:\n",
    "    result = j.seg(frame['content'], pos=True)\n",
    "    frame['participant'] = []\n",
    "    frame['place'] = []\n",
    "    frame['relative_time'] = []\n",
    "    frame['tokens'] = []\n",
    "    for idx, (token, pos) in enumerate(result.raw):\n",
    "        label = 'O'\n",
    "        if token in time_trigger:\n",
    "            label = 'TIME'\n",
    "            frame['relative_time'].append({'token': token, 'index': idx})\n",
    "        elif token in places:\n",
    "            label = 'PLACE'\n",
    "            frame['place'].append({'token': token, 'index': idx})\n",
    "        elif token in names:\n",
    "            label = 'PERSON'\n",
    "            frame['participant'].append({'token': token, 'index': idx})\n",
    "        frame['tokens'].append({'token': token, 'index': idx, 'pos': pos, 'label': label})"
   ]
  },
  {
   "cell_type": "markdown",
   "metadata": {},
   "source": [
    "# Output Frames to json"
   ]
  },
  {
   "cell_type": "code",
   "execution_count": 6,
   "metadata": {},
   "outputs": [
    {
     "name": "stdout",
     "output_type": "stream",
     "text": [
      "4688\n"
     ]
    }
   ],
   "source": [
    "import json\n",
    "json.dump(frames, open('frames.json', 'w'), ensure_ascii=False)\n",
    "print(len(frames))"
   ]
  },
  {
   "cell_type": "code",
   "execution_count": 7,
   "metadata": {},
   "outputs": [
    {
     "data": {
      "text/plain": [
       "{'content': '過了下午四點，帶母親、肇嘉嫂、淑英等孩子們到天壇遊覽',\n",
       " 'participant': [{'index': 6, 'token': '母親'},\n",
       "  {'index': 8, 'token': '肇嘉嫂'},\n",
       "  {'index': 10, 'token': '淑英'}],\n",
       " 'place': [{'index': 14, 'token': '天壇'}],\n",
       " 'relative_time': [{'index': 2, 'token': '下午'}, {'index': 3, 'token': '四點'}],\n",
       " 'time': ' 1944年（民33年，34歲）   10月1日\\u3000日 ',\n",
       " 'tokens': [{'index': 0, 'label': 'O', 'pos': 'VC1', 'token': '過'},\n",
       "  {'index': 1, 'label': 'O', 'pos': 'Di', 'token': '了'},\n",
       "  {'index': 2, 'label': 'TIME', 'pos': 'Ndabe', 'token': '下午'},\n",
       "  {'index': 3, 'label': 'TIME', 'pos': 'Ndabe', 'token': '四點'},\n",
       "  {'index': 4, 'label': 'O', 'pos': 'NN', 'token': '，'},\n",
       "  {'index': 5, 'label': 'O', 'pos': 'VC32', 'token': '帶'},\n",
       "  {'index': 6, 'label': 'PERSON', 'pos': 'Nab', 'token': '母親'},\n",
       "  {'index': 7, 'label': 'O', 'pos': 'Caa', 'token': '、'},\n",
       "  {'index': 8, 'label': 'PERSON', 'pos': 'NN', 'token': '肇嘉嫂'},\n",
       "  {'index': 9, 'label': 'O', 'pos': 'Caa', 'token': '、'},\n",
       "  {'index': 10, 'label': 'PERSON', 'pos': 'NN', 'token': '淑英'},\n",
       "  {'index': 11, 'label': 'O', 'pos': 'Cab', 'token': '等'},\n",
       "  {'index': 12, 'label': 'O', 'pos': 'Nab', 'token': '孩子們'},\n",
       "  {'index': 13, 'label': 'O', 'pos': 'P61', 'token': '到'},\n",
       "  {'index': 14, 'label': 'PLACE', 'pos': 'NN', 'token': '天壇'},\n",
       "  {'index': 15, 'label': 'O', 'pos': 'Nv4', 'token': '遊覽'}]}"
      ]
     },
     "execution_count": 7,
     "metadata": {},
     "output_type": "execute_result"
    }
   ],
   "source": [
    "frames[1] # After adding 肇嘉嫂 淑英 天壇 to CJ's entities"
   ]
  },
  {
   "cell_type": "code",
   "execution_count": 8,
   "metadata": {},
   "outputs": [
    {
     "data": {
      "text/plain": [
       "{'content': '晚上七點回到辦公處與同僚設宴共祝中秋佳節，與張小姐一同賞月，閒談四年前的往事',\n",
       " 'participant': [{'index': 12, 'token': '張'}, {'index': 13, 'token': '小姐'}],\n",
       " 'place': [],\n",
       " 'relative_time': [{'index': 0, 'token': '晚上'}, {'index': 1, 'token': '七點'}],\n",
       " 'time': ' 1944年（民33年，34歲）   10月1日\\u3000日 ',\n",
       " 'tokens': [{'index': 0, 'label': 'TIME', 'pos': 'Ndabe', 'token': '晚上'},\n",
       "  {'index': 1, 'label': 'TIME', 'pos': 'NN', 'token': '七點'},\n",
       "  {'index': 2, 'label': 'O', 'pos': 'VC1', 'token': '回到'},\n",
       "  {'index': 3, 'label': 'O', 'pos': 'NN', 'token': '辦公處'},\n",
       "  {'index': 4, 'label': 'O', 'pos': 'Caa', 'token': '與'},\n",
       "  {'index': 5, 'label': 'O', 'pos': 'NN', 'token': '同僚'},\n",
       "  {'index': 6, 'label': 'O', 'pos': 'NN', 'token': '設宴'},\n",
       "  {'index': 7, 'label': 'O', 'pos': 'NN', 'token': '共祝'},\n",
       "  {'index': 8, 'label': 'O', 'pos': 'NN', 'token': '中秋'},\n",
       "  {'index': 9, 'label': 'O', 'pos': 'Nac', 'token': '佳節'},\n",
       "  {'index': 10, 'label': 'O', 'pos': 'NN', 'token': '，'},\n",
       "  {'index': 11, 'label': 'O', 'pos': 'Caa', 'token': '與'},\n",
       "  {'index': 12, 'label': 'PERSON', 'pos': 'Nbc', 'token': '張'},\n",
       "  {'index': 13, 'label': 'PERSON', 'pos': 'Nab', 'token': '小姐'},\n",
       "  {'index': 14, 'label': 'O', 'pos': 'Dh', 'token': '一同'},\n",
       "  {'index': 15, 'label': 'O', 'pos': 'VA4', 'token': '賞月'},\n",
       "  {'index': 16, 'label': 'O', 'pos': 'NN', 'token': '，'},\n",
       "  {'index': 17, 'label': 'O', 'pos': 'NN', 'token': '閒談'},\n",
       "  {'index': 18, 'label': 'O', 'pos': 'Neu', 'token': '四'},\n",
       "  {'index': 19, 'label': 'O', 'pos': 'NN', 'token': '年前'},\n",
       "  {'index': 20, 'label': 'O', 'pos': 'DE', 'token': '的'},\n",
       "  {'index': 21, 'label': 'O', 'pos': 'Nac', 'token': '往事'}]}"
      ]
     },
     "execution_count": 8,
     "metadata": {},
     "output_type": "execute_result"
    }
   ],
   "source": [
    "frames[2]"
   ]
  }
 ],
 "metadata": {
  "kernelspec": {
   "display_name": "Python 3",
   "language": "python",
   "name": "python3"
  },
  "language_info": {
   "codemirror_mode": {
    "name": "ipython",
    "version": 3
   },
   "file_extension": ".py",
   "mimetype": "text/x-python",
   "name": "python",
   "nbconvert_exporter": "python",
   "pygments_lexer": "ipython3",
   "version": "3.4.2"
  }
 },
 "nbformat": 4,
 "nbformat_minor": 1
}

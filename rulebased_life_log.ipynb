{
 "cells": [
  {
   "cell_type": "code",
   "execution_count": 1,
   "metadata": {
    "collapsed": true
   },
   "outputs": [],
   "source": [
    "import pandas as pd\n",
    "\n",
    "time_trigger = ['下午', '早晨', '晚上', '早上', '午夜', '今天', '明天']\n",
    "time_trigger += [num + '點' for num in ['一', '二', '三', '四', '五', '六', '七', '八', '九', '十']]"
   ]
  },
  {
   "cell_type": "markdown",
   "metadata": {},
   "source": [
    "# Remove Japanese"
   ]
  },
  {
   "cell_type": "markdown",
   "metadata": {},
   "source": [
    "```python\n",
    "from collections import namedtuple\n",
    "import re\n",
    "Entry = namedtuple('Entry', ['title', 'contnet'])\n",
    "diaries = pd.read_csv('data/diary_corpus.csv').fillna('')\n",
    "diaries = diaries[diaries.author =='楊基振日記']\n",
    "days = ['星期一', '星期二', '星期三', '星期四', '星期五', '星期六', '星期日', '星期天']\n",
    "#ls = []\n",
    "out  = []\n",
    "pat = re.compile('。')\n",
    "for i in diaries.index:\n",
    "    content = diaries.content[i].strip()\n",
    "    title = diaries.title[i]\n",
    "    for day in days:\n",
    "        ind = content.find(day+'\\n')\n",
    "        if ind > 0:\n",
    "            content = content[ind+3:]\n",
    "            break\n",
    "    out += [Entry(title, sentence.strip()) for sentence in pat.split(content) if sentence.strip()]\n",
    "    #ls.append(len(content + title))\n",
    "len(out)\n",
    "```"
   ]
  },
  {
   "cell_type": "markdown",
   "metadata": {},
   "source": [
    "# Extract Time Frames"
   ]
  },
  {
   "cell_type": "markdown",
   "metadata": {
    "collapsed": true
   },
   "source": [
    "```python\n",
    "# 沒事不要再做一次 這個很久\n",
    "'''\n",
    "from jseg.jieba import Jieba\n",
    "segmenter = Jieba()\n",
    "'''\n",
    "from PyCCS import ckip\n",
    "segmenter = ckip\n",
    "import json\n",
    "from multiprocessing import Pool\n",
    "\n",
    "def entry2frame(entry):\n",
    "    title, sentence = entry\n",
    "    if any(trigger in sentence for trigger in time_trigger):\n",
    "        result = segmenter.seg(sentence)\n",
    "        seg, pos = zip(*result.raw)\n",
    "        return {'time': title, \n",
    "                'content': sentence,\n",
    "                'segment': seg, \n",
    "                'postag': pos}\n",
    "    else:\n",
    "        return None\n",
    "\n",
    "filename = 'data/frame_seg.jsonl'\n",
    "pool = Pool()\n",
    "frames = pool.imap_unordered(entry2frame, out, chunksize=4)\n",
    "pool.close()\n",
    "with open(filename, 'a') as f:\n",
    "    f.seek(0)\n",
    "    f.truncate()\n",
    "    for i, frame in enumerate(frames, 1):\n",
    "        if frame is not None:\n",
    "            json.dump(frame, f, ensure_ascii=False)\n",
    "            print(file=f)\n",
    "        print('{:>5d}/{:>5d}'.format(i, len(out)), end='\\r')\n",
    "```"
   ]
  },
  {
   "cell_type": "markdown",
   "metadata": {},
   "source": [
    "# Named Entities\n",
    "\n",
    "- `names_twrsj.txt`: names from 台灣人士鑑\n",
    "\n",
    "- `place_wiki.csv`: place from wiki\n",
    "\n",
    "- `relatives.txt`: 到處收集的各種對人的稱呼\n",
    "\n",
    "不使用 `names.csv` 和 `place.csv` 因為等一下用dictionary直接分就好了啊 OAO"
   ]
  },
  {
   "cell_type": "code",
   "execution_count": 2,
   "metadata": {
    "collapsed": true
   },
   "outputs": [],
   "source": [
    "names, relatives, places = set(), set(), set()\n",
    "\n",
    "with open('data/names_twrsj.txt') as f:\n",
    "    names.update(name.strip() for name in f)\n",
    "\n",
    "with open('data/relatives.txt') as f:\n",
    "    relatives.update(name.strip() for name in f)\n",
    "\n",
    "with open('data/place_wiki.csv') as f:\n",
    "    places.update(place.strip() for place in f)"
   ]
  },
  {
   "cell_type": "markdown",
   "metadata": {},
   "source": [
    "# Raw Format\n",
    "\n",
    "- `Na`: 普通名詞\n",
    "\n",
    "- `Nb`: 專有名詞（含人名）\n",
    "\n",
    "- `Nha`: 人稱代名詞    \n",
    "\n",
    "- `Nc`: 位置\n",
    "\n",
    "- `Nd`: 時間"
   ]
  },
  {
   "cell_type": "code",
   "execution_count": 3,
   "metadata": {},
   "outputs": [],
   "source": [
    "with open('data/dict.txt.big', 'r') as f:\n",
    "    common_words = set(line.split()[0] for line in f)"
   ]
  },
  {
   "cell_type": "code",
   "execution_count": 4,
   "metadata": {},
   "outputs": [],
   "source": [
    "import json\n",
    "from collections import defaultdict\n",
    "with open('data/frame_seg.jsonl', 'r') as f:\n",
    "    frames = [defaultdict(list, json.loads(frame)) for frame in f]\n",
    "\n",
    "person_tag = 'Nb'\n",
    "place_tag = 'Nc'\n",
    "time_tag = 'Nd'\n",
    "\n",
    "person_tag_soft = ('Na', 'Nha')\n",
    "\n",
    "for frame in frames:\n",
    "    sentence = zip(frame.pop('segment'), frame.pop('postag'))\n",
    "    \n",
    "    for idx, (token, pos) in enumerate(sentence):\n",
    "        label = 'O'\n",
    "        \n",
    "        if token in time_trigger or pos.startswith(time_tag):\n",
    "            label = 'TIME'\n",
    "            frame['relative_time'].append({'token': token, 'index': idx})\n",
    "            \n",
    "        elif pos.startswith(person_tag) \\\n",
    "                or token in names and pos.startswith(person_tag_soft) \\\n",
    "                or (token in relatives) and pos.startswith('N') \\\n",
    "                or pos.startswith('Na') and token not in common_words:\n",
    "            label = 'PERSON'\n",
    "            frame['participant'].append({'token': token, 'index': idx})\n",
    "            \n",
    "        elif token in places or pos.startswith(place_tag):\n",
    "            label = 'PLACE'\n",
    "            frame['place'].append({'token': token, 'index': idx})\n",
    "            \n",
    "        frame['tokens'].append({'token': token, 'index': idx, 'pos': pos, 'label': label})"
   ]
  },
  {
   "cell_type": "markdown",
   "metadata": {},
   "source": [
    "# Output Frames to json"
   ]
  },
  {
   "cell_type": "code",
   "execution_count": 5,
   "metadata": {},
   "outputs": [
    {
     "name": "stdout",
     "output_type": "stream",
     "text": [
      "4688\n"
     ]
    }
   ],
   "source": [
    "import json\n",
    "json.dump(frames, open('frames.json', 'w'), ensure_ascii=False)\n",
    "print(len(frames))"
   ]
  },
  {
   "cell_type": "code",
   "execution_count": 6,
   "metadata": {},
   "outputs": [
    {
     "data": {
      "text/plain": [
       "defaultdict(list,\n",
       "            {'content': '過了下午四點，帶母親、肇嘉嫂、淑英等孩子們到天壇遊覽',\n",
       "             'participant': [{'index': 6, 'token': '母親'},\n",
       "              {'index': 8, 'token': '肇嘉嫂'},\n",
       "              {'index': 10, 'token': '淑英'},\n",
       "              {'index': 12, 'token': '孩子們'}],\n",
       "             'place': [{'index': 14, 'token': '天壇'}],\n",
       "             'relative_time': [{'index': 2, 'token': '下午'},\n",
       "              {'index': 3, 'token': '四點'}],\n",
       "             'time': ' 1944年（民33年，34歲）   10月1日\\u3000日 ',\n",
       "             'tokens': [{'index': 0, 'label': 'O', 'pos': 'VCL', 'token': '過'},\n",
       "              {'index': 1, 'label': 'O', 'pos': 'Di', 'token': '了'},\n",
       "              {'index': 2, 'label': 'TIME', 'pos': 'Nd', 'token': '下午'},\n",
       "              {'index': 3, 'label': 'TIME', 'pos': 'Neu', 'token': '四點'},\n",
       "              {'index': 4, 'label': 'O', 'pos': 'COMMACATEGORY', 'token': '，'},\n",
       "              {'index': 5, 'label': 'O', 'pos': 'VC', 'token': '帶'},\n",
       "              {'index': 6, 'label': 'PERSON', 'pos': 'Na', 'token': '母親'},\n",
       "              {'index': 7, 'label': 'O', 'pos': 'PAUSECATEGORY', 'token': '、'},\n",
       "              {'index': 8, 'label': 'PERSON', 'pos': 'Na', 'token': '肇嘉嫂'},\n",
       "              {'index': 9, 'label': 'O', 'pos': 'PAUSECATEGORY', 'token': '、'},\n",
       "              {'index': 10, 'label': 'PERSON', 'pos': 'Nb', 'token': '淑英'},\n",
       "              {'index': 11, 'label': 'O', 'pos': 'Cab', 'token': '等'},\n",
       "              {'index': 12, 'label': 'PERSON', 'pos': 'Na', 'token': '孩子們'},\n",
       "              {'index': 13, 'label': 'O', 'pos': 'VCL', 'token': '到'},\n",
       "              {'index': 14, 'label': 'PLACE', 'pos': 'Nc', 'token': '天壇'},\n",
       "              {'index': 15, 'label': 'O', 'pos': 'VCL', 'token': '遊覽'}]})"
      ]
     },
     "execution_count": 6,
     "metadata": {},
     "output_type": "execute_result"
    }
   ],
   "source": [
    "frames[37]"
   ]
  },
  {
   "cell_type": "code",
   "execution_count": 7,
   "metadata": {},
   "outputs": [
    {
     "data": {
      "text/plain": [
       "defaultdict(list,\n",
       "            {'content': '晚上姊姊、肇嘉嫂一行與賴太太、毛昭江君等人來訪，熱熱鬧鬧地度過西黃域根的最後一夜',\n",
       "             'participant': [{'index': 1, 'token': '姊姊'},\n",
       "              {'index': 3, 'token': '肇嘉嫂'},\n",
       "              {'index': 7, 'token': '賴'},\n",
       "              {'index': 10, 'token': '毛昭江'},\n",
       "              {'index': 11, 'token': '君'},\n",
       "              {'index': 19, 'token': '西黃域根'}],\n",
       "             'relative_time': [{'index': 0, 'token': '晚上'},\n",
       "              {'index': 21, 'token': '最後'},\n",
       "              {'index': 23, 'token': '夜'}],\n",
       "             'time': ' 1944年（民33年，34歲）   10月8日\\u3000日 ',\n",
       "             'tokens': [{'index': 0,\n",
       "               'label': 'TIME',\n",
       "               'pos': 'Nd',\n",
       "               'token': '晚上'},\n",
       "              {'index': 1, 'label': 'PERSON', 'pos': 'Na', 'token': '姊姊'},\n",
       "              {'index': 2, 'label': 'O', 'pos': 'PAUSECATEGORY', 'token': '、'},\n",
       "              {'index': 3, 'label': 'PERSON', 'pos': 'Na', 'token': '肇嘉嫂'},\n",
       "              {'index': 4, 'label': 'O', 'pos': 'Neu', 'token': '一'},\n",
       "              {'index': 5, 'label': 'O', 'pos': 'Nf', 'token': '行'},\n",
       "              {'index': 6, 'label': 'O', 'pos': 'Caa', 'token': '與'},\n",
       "              {'index': 7, 'label': 'PERSON', 'pos': 'Nb', 'token': '賴'},\n",
       "              {'index': 8, 'label': 'O', 'pos': 'Na', 'token': '太太'},\n",
       "              {'index': 9, 'label': 'O', 'pos': 'PAUSECATEGORY', 'token': '、'},\n",
       "              {'index': 10, 'label': 'PERSON', 'pos': 'Nb', 'token': '毛昭江'},\n",
       "              {'index': 11, 'label': 'PERSON', 'pos': 'Na', 'token': '君'},\n",
       "              {'index': 12, 'label': 'O', 'pos': 'Cab', 'token': '等'},\n",
       "              {'index': 13, 'label': 'O', 'pos': 'Na', 'token': '人'},\n",
       "              {'index': 14, 'label': 'O', 'pos': 'VA', 'token': '來訪'},\n",
       "              {'index': 15,\n",
       "               'label': 'O',\n",
       "               'pos': 'COMMACATEGORY',\n",
       "               'token': '，'},\n",
       "              {'index': 16, 'label': 'O', 'pos': 'VH', 'token': '熱熱鬧鬧'},\n",
       "              {'index': 17, 'label': 'O', 'pos': 'DE', 'token': '地'},\n",
       "              {'index': 18, 'label': 'O', 'pos': 'VCL', 'token': '度過'},\n",
       "              {'index': 19, 'label': 'PERSON', 'pos': 'Nb', 'token': '西黃域根'},\n",
       "              {'index': 20, 'label': 'O', 'pos': 'DE', 'token': '的'},\n",
       "              {'index': 21, 'label': 'TIME', 'pos': 'Nd', 'token': '最後'},\n",
       "              {'index': 22, 'label': 'O', 'pos': 'Neu', 'token': '一'},\n",
       "              {'index': 23, 'label': 'TIME', 'pos': 'Nd', 'token': '夜'}]})"
      ]
     },
     "execution_count": 7,
     "metadata": {},
     "output_type": "execute_result"
    }
   ],
   "source": [
    "frames[2]"
   ]
  },
  {
   "cell_type": "code",
   "execution_count": null,
   "metadata": {
    "collapsed": true
   },
   "outputs": [],
   "source": []
  }
 ],
 "metadata": {
  "kernelspec": {
   "display_name": "Python 3",
   "language": "python",
   "name": "python3"
  },
  "language_info": {
   "codemirror_mode": {
    "name": "ipython",
    "version": 3
   },
   "file_extension": ".py",
   "mimetype": "text/x-python",
   "name": "python",
   "nbconvert_exporter": "python",
   "pygments_lexer": "ipython3",
   "version": "3.4.2"
  }
 },
 "nbformat": 4,
 "nbformat_minor": 1
}

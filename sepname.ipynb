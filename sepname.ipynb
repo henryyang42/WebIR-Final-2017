{
 "cells": [
  {
   "cell_type": "code",
   "execution_count": 1,
   "metadata": {
    "collapsed": true
   },
   "outputs": [],
   "source": [
    "with open('names.txt') as f:\n",
    "    names = [name.strip() for name in f]"
   ]
  },
  {
   "cell_type": "code",
   "execution_count": 2,
   "metadata": {},
   "outputs": [],
   "source": [
    "from itertools import groupby\n",
    "names = sorted(names, key=len)[::-1]\n",
    "first, last = set(), set()\n",
    "for l, group in groupby(names, len):\n",
    "    if l in [4, 5]:\n",
    "        for name in group:\n",
    "            first.add(name[:2])\n",
    "            last.add(name[2:])\n",
    "    elif l == 3:\n",
    "        for name in group:\n",
    "            if name[:2] in first:\n",
    "                last.add(name[2:])\n",
    "            else:\n",
    "                first.add(name[:1])\n",
    "                last.add(name[1:])\n",
    "                last.add('阿%s'%name[1])\n",
    "                last.add('阿%s'%name[2])\n",
    "    elif l == 2:\n",
    "        for name in group:\n",
    "            first.add(name[0])\n",
    "            last.add(name[1])\n",
    "            last.add('阿%s'%name[1])"
   ]
  },
  {
   "cell_type": "code",
   "execution_count": 3,
   "metadata": {},
   "outputs": [
    {
     "data": {
      "text/plain": [
       "(1496, 4433)"
      ]
     },
     "execution_count": 3,
     "metadata": {},
     "output_type": "execute_result"
    }
   ],
   "source": [
    "len(first), len(last)"
   ]
  },
  {
   "cell_type": "code",
   "execution_count": 4,
   "metadata": {
    "collapsed": true
   },
   "outputs": [],
   "source": [
    "with open('first.txt', 'w') as f:\n",
    "    for x in first:\n",
    "        print(x, file=f)\n",
    "with open('last.txt', 'w') as f:\n",
    "    for x in last:\n",
    "        print(x, file=f)"
   ]
  }
 ],
 "metadata": {
  "kernelspec": {
   "display_name": "Python 3",
   "language": "python",
   "name": "python3"
  },
  "language_info": {
   "codemirror_mode": {
    "name": "ipython",
    "version": 3
   },
   "file_extension": ".py",
   "mimetype": "text/x-python",
   "name": "python",
   "nbconvert_exporter": "python",
   "pygments_lexer": "ipython3",
   "version": "3.4.2"
  }
 },
 "nbformat": 4,
 "nbformat_minor": 2
}

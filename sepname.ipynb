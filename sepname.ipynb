{
 "cells": [
  {
   "cell_type": "code",
   "execution_count": 1,
   "metadata": {
    "collapsed": true
   },
   "outputs": [],
   "source": [
    "with open('data/names.txt') as f:\n",
    "    names = [name.strip() for name in f]"
   ]
  },
  {
   "cell_type": "code",
   "execution_count": 2,
   "metadata": {},
   "outputs": [],
   "source": [
    "names = sorted(names, key=len)[::-1]\n",
    "firsts, lasts = set(), set()\n",
    "for name in names:\n",
    "    l = len(name)\n",
    "    if l > 5:\n",
    "        continue\n",
    "    elif l in [4, 5]:\n",
    "        first, last = name[:2], name[2:]\n",
    "    elif l == 3:\n",
    "        if name[:2] in firsts:\n",
    "            first = name[:2]\n",
    "            last = name[2:]\n",
    "        else:\n",
    "            first = name[:1]\n",
    "            last = name[1:]\n",
    "    elif l == 2:\n",
    "        first = name[0]\n",
    "        last = name[1]\n",
    "    firsts.add(first)\n",
    "    lasts.add(last)\n",
    "    lasts.update('阿%s'%word for word in last)"
   ]
  },
  {
   "cell_type": "code",
   "execution_count": 3,
   "metadata": {},
   "outputs": [
    {
     "data": {
      "text/plain": [
       "(1496, 4683)"
      ]
     },
     "execution_count": 3,
     "metadata": {},
     "output_type": "execute_result"
    }
   ],
   "source": [
    "len(firsts), len(lasts)"
   ]
  },
  {
   "cell_type": "code",
   "execution_count": 5,
   "metadata": {
    "collapsed": true
   },
   "outputs": [],
   "source": [
    "with open('data/first.txt', 'w') as f:\n",
    "    for x in firsts:\n",
    "        print(x, file=f)\n",
    "with open('data/last.txt', 'w') as f:\n",
    "    for x in lasts:\n",
    "        print(x, file=f)"
   ]
  }
 ],
 "metadata": {
  "kernelspec": {
   "display_name": "Python 3",
   "language": "python",
   "name": "python3"
  },
  "language_info": {
   "codemirror_mode": {
    "name": "ipython",
    "version": 3
   },
   "file_extension": ".py",
   "mimetype": "text/x-python",
   "name": "python",
   "nbconvert_exporter": "python",
   "pygments_lexer": "ipython3",
   "version": "3.4.2"
  }
 },
 "nbformat": 4,
 "nbformat_minor": 2
}

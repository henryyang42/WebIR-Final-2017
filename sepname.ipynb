{
 "cells": [
  {
   "cell_type": "code",
   "execution_count": 1,
   "metadata": {
    "collapsed": true
   },
   "outputs": [],
   "source": [
    "with open('data/names.txt') as f:\n",
    "    names = [name.strip() for name in f]"
   ]
  },
  {
   "cell_type": "markdown",
   "metadata": {},
   "source": [
    "# 把姓氏跟名字分開\n",
    "- firsts: 姓\n",
    "- lasts: 名, 阿X"
   ]
  },
  {
   "cell_type": "code",
   "execution_count": 2,
   "metadata": {},
   "outputs": [],
   "source": [
    "names = sorted(names, key=len, reverse=True)\n",
    "firsts = '''陳、林、黃、張、李、王、吳、劉、蔡、楊、\n",
    "許、鄭、謝、郭、洪、邱、曾、廖、賴、徐、\n",
    "周、葉、蘇、莊、江、呂、何、羅、高、蕭、\n",
    "潘、朱、簡、鍾、彭、游、詹、胡、施、沈、\n",
    "余、趙、盧、梁、顏、柯、孫、魏、翁、戴、\n",
    "范、宋、方、鄧、杜、傅、侯、曹、溫、薛、\n",
    "丁、馬、蔣、唐、卓、藍、馮、姚、石、董、\n",
    "紀、歐、程、連、古、汪、湯、姜、田、康、\n",
    "鄒、白、涂、尤、巫、韓、龔、嚴、袁、鐘、\n",
    "黎、金、阮、陸、倪、夏、童、邵、柳、錢'''\n",
    "firsts, lasts = set(firsts.split('、')), set()\n",
    "for name in names:\n",
    "    l = len(name)\n",
    "    if l > 5: continue\n",
    "    elif l in [4, 5]: sep = 2\n",
    "    elif l == 3: sep = 2 if name[:2] in firsts else 1\n",
    "    elif l == 2: sep = 1\n",
    "        \n",
    "    first, last = name[:sep], name[sep:]\n",
    "    firsts.add(first)\n",
    "    lasts.add(last)\n",
    "    lasts.update('阿%s'%word for word in last)"
   ]
  },
  {
   "cell_type": "code",
   "execution_count": 3,
   "metadata": {},
   "outputs": [
    {
     "data": {
      "text/plain": [
       "(1516, 4683)"
      ]
     },
     "execution_count": 3,
     "metadata": {},
     "output_type": "execute_result"
    }
   ],
   "source": [
    "len(firsts), len(lasts)"
   ]
  },
  {
   "cell_type": "code",
   "execution_count": 4,
   "metadata": {
    "collapsed": true
   },
   "outputs": [],
   "source": [
    "names = set(names)\n",
    "valid = names | firsts | lasts"
   ]
  },
  {
   "cell_type": "code",
   "execution_count": 5,
   "metadata": {},
   "outputs": [
    {
     "data": {
      "text/plain": [
       "10502"
      ]
     },
     "execution_count": 5,
     "metadata": {},
     "output_type": "execute_result"
    }
   ],
   "source": [
    "len(valid)"
   ]
  },
  {
   "cell_type": "code",
   "execution_count": 6,
   "metadata": {
    "collapsed": true
   },
   "outputs": [],
   "source": [
    "with open('data/names_twrsj.txt', 'w') as f:\n",
    "    for name in valid:\n",
    "        print(name, file=f)"
   ]
  }
 ],
 "metadata": {
  "kernelspec": {
   "display_name": "Python 3",
   "language": "python",
   "name": "python3"
  },
  "language_info": {
   "codemirror_mode": {
    "name": "ipython",
    "version": 3
   },
   "file_extension": ".py",
   "mimetype": "text/x-python",
   "name": "python",
   "nbconvert_exporter": "python",
   "pygments_lexer": "ipython3",
   "version": "3.4.2"
  }
 },
 "nbformat": 4,
 "nbformat_minor": 2
}

{
 "cells": [
  {
   "cell_type": "code",
   "execution_count": 23,
   "metadata": {},
   "outputs": [
    {
     "data": {
      "text/plain": [
       "[('過', 'VCL'),\n",
       " ('了', 'Di'),\n",
       " ('下午', 'Nd'),\n",
       " ('四點', 'Neu'),\n",
       " ('，', 'COMMACATEGORY'),\n",
       " ('帶', 'VC'),\n",
       " ('母親', 'Na'),\n",
       " ('、', 'PAUSECATEGORY'),\n",
       " ('肇嘉嫂', 'Na'),\n",
       " ('、', 'PAUSECATEGORY'),\n",
       " ('淑英', 'Nb'),\n",
       " ('等', 'Cab'),\n",
       " ('孩子們', 'Na'),\n",
       " ('到', 'VCL'),\n",
       " ('天壇', 'Nc'),\n",
       " ('遊覽', 'VCL')]"
      ]
     },
     "execution_count": 23,
     "metadata": {},
     "output_type": "execute_result"
    }
   ],
   "source": [
    "from PyCCS import ckip\n",
    "result = ckip.seg('過了下午四點，帶母親、肇嘉嫂、淑英等孩子們到天壇遊覽')\n",
    "result.raw"
   ]
  }
 ],
 "metadata": {
  "kernelspec": {
   "display_name": "Python 3",
   "language": "python",
   "name": "python3"
  },
  "language_info": {
   "codemirror_mode": {
    "name": "ipython",
    "version": 3
   },
   "file_extension": ".py",
   "mimetype": "text/x-python",
   "name": "python",
   "nbconvert_exporter": "python",
   "pygments_lexer": "ipython3",
   "version": "3.4.2"
  }
 },
 "nbformat": 4,
 "nbformat_minor": 2
}

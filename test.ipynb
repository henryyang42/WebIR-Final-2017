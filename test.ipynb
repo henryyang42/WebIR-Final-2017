{
 "cells": [
  {
   "cell_type": "code",
   "execution_count": 24,
   "metadata": {
    "collapsed": true
   },
   "outputs": [],
   "source": [
    "import pandas as pd"
   ]
  },
  {
   "cell_type": "code",
   "execution_count": 47,
   "metadata": {},
   "outputs": [],
   "source": [
    "diaries = pd.read_csv('data/diary_corpus.csv').fillna('')\n",
    "diaries = diaries[diaries.author=='楊基振日記']\n",
    "days = ['星期一', '星期二', '星期三', '星期四', '星期五', '星期六', '星期日', '星期天']\n",
    "filename = '楊基振日記.txt'\n",
    "tot_len = 0\n",
    "ls = []\n",
    "with open(filename, 'w') as f:\n",
    "    out  = []\n",
    "    for i in diaries.index:\n",
    "        content = diaries.content[i]\n",
    "#         if '來訪' in content:\n",
    "#             pass\n",
    "#         else:\n",
    "#             continue\n",
    "        title = diaries.title[i]\n",
    "        for day in days:\n",
    "            ind = content.find(day+'\\n')\n",
    "            if ind > 0:\n",
    "                content = content[ind+3:]\n",
    "                break\n",
    "        tot_len += len(content + title)\n",
    "        ls.append(len(content + title))\n",
    "        #f.write(title)\n",
    "        #f.write(content)\n",
    "        out.append({'title': title, 'content': content})\n",
    "    import json\n",
    "    f.write(json.dumps(out))"
   ]
  },
  {
   "cell_type": "code",
   "execution_count": 46,
   "metadata": {},
   "outputs": [
    {
     "name": "stdout",
     "output_type": "stream",
     "text": [
      "Total Articles: 1817\n",
      "Total #Characters: 305375\n",
      "Avg Length per Article: 168.065\n"
     ]
    }
   ],
   "source": [
    "print('Total Articles: %d' % len(diaries))\n",
    "print('Total #Characters: %d' % tot_len)\n",
    "print('Avg Length per Article: %.3f' % (tot_len / len(diaries)))"
   ]
  },
  {
   "cell_type": "code",
   "execution_count": 41,
   "metadata": {
    "scrolled": false
   },
   "outputs": [],
   "source": [
    "with open('data/lens.txt', 'w') as f:\n",
    "    f.write(str([l for l in ls if l < 500]))"
   ]
  },
  {
   "cell_type": "code",
   "execution_count": null,
   "metadata": {
    "collapsed": true
   },
   "outputs": [],
   "source": []
  }
 ],
 "metadata": {
  "kernelspec": {
   "display_name": "Python 3",
   "language": "python",
   "name": "python3"
  },
  "language_info": {
   "codemirror_mode": {
    "name": "ipython",
    "version": 3
   },
   "file_extension": ".py",
   "mimetype": "text/x-python",
   "name": "python",
   "nbconvert_exporter": "python",
   "pygments_lexer": "ipython3",
   "version": "3.4.2"
  }
 },
 "nbformat": 4,
 "nbformat_minor": 1
}
